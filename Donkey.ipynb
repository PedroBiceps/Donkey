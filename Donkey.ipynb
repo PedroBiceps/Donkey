{
 "cells": [
  {
   "cell_type": "code",
   "execution_count": 1,
   "metadata": {},
   "outputs": [
    {
     "name": "stderr",
     "output_type": "stream",
     "text": [
      "Using TensorFlow backend.\n"
     ]
    }
   ],
   "source": [
    "from keras.models import load_model\n",
    "model = load_model(\"Donkey8.h5\")"
   ]
  },
  {
   "cell_type": "code",
   "execution_count": 6,
   "metadata": {},
   "outputs": [],
   "source": [
    "import cv2\n",
    "import numpy as np\n",
    "import cv2\n",
    "import glob\n",
    "import matplotlib.pyplot as plt\n",
    "import matplotlib.image as mpimg\n",
    "from collections import deque\n",
    "import math\n",
    "from imutils.video import FPS\n",
    "# initialize the camera and grab a reference to the raw camera capture\n",
    "\n",
    "def binary_threshold(img, low, high):\n",
    "    if len(img.shape) == 2:\n",
    "        output = np.zeros_like(img)\n",
    "        mask = (img >= low) & (img <= high)\n",
    "\n",
    "    elif len(img.shape) == 3:\n",
    "        output = np.zeros_like(img[:,:,0])\n",
    "        mask = (img[:,:,0] >= low[0]) & (img[:,:,0] <= high[0]) \\\n",
    "            & (img[:,:,1] >= low[1]) & (img[:,:,1] <= high[1]) \\\n",
    "            & (img[:,:,2] >= low[2]) & (img[:,:,2] <= high[2])\n",
    "\n",
    "    output[mask] = 1\n",
    "    return output\n",
    "\n",
    "def pipeline_threshold(img, visualise=False):\n",
    "\n",
    "    ### LAB color space\n",
    "    lab = cv2.cvtColor(img, cv2.COLOR_RGB2LAB)\n",
    "    L = lab[:,:,0]\n",
    "    L_max, L_mean = np.max(L), np.mean(L)\n",
    "    B = lab[:,:,2]\n",
    "    B_max, B_mean = np.max(B), np.mean(B)\n",
    "\n",
    "    # YELLOW\n",
    "    L_adapt_yellow = max(80, int(L_max * 0.45))\n",
    "    B_adapt_yellow =  max(int(B_max * 0.70), int(B_mean * 1.2))\n",
    "    lab_low_yellow = np.array((L_adapt_yellow, 120, B_adapt_yellow))\n",
    "    lab_high_yellow = np.array((255, 145, 255))\n",
    "\n",
    "    lab_yellow = binary_threshold(lab, lab_low_yellow, lab_high_yellow)\n",
    "    lab_binary =lab_yellow\n",
    "\n",
    "    ### HSV color space\n",
    "    hsv = cv2.cvtColor(img, cv2.COLOR_RGB2HSV)\n",
    "    H = hsv[:,:,0]\n",
    "    H_max, H_mean = np.max(H), np.mean(H)\n",
    "    S = hsv[:,:,1]\n",
    "    S_max, S_mean = np.max(S), np.mean(S)\n",
    "    V = hsv[:,:,2]\n",
    "    V_max, V_mean = np.max(V), np.mean(V)\n",
    "\n",
    "    # YELLOW\n",
    "    S_adapt_yellow =  max(int(S_max * 0.25), int(S_mean * 1.75))\n",
    "    V_adapt_yellow =  max(50, int(V_mean * 1.25))\n",
    "    hsv_low_yellow = np.array((15, S_adapt_yellow, V_adapt_yellow))\n",
    "\n",
    "    hsv_high_yellow = np.array((30, 255, 255))\n",
    "    hsv_yellow = binary_threshold(hsv, hsv_low_yellow, hsv_high_yellow)\n",
    "\n",
    "    # WHITE\n",
    "    V_adapt_white = max(150, int(V_max * 0.8),int(V_mean * 1.25))\n",
    "    hsv_low_white = np.array((0, 0, V_adapt_white))\n",
    "    hsv_high_white = np.array((255, 40, 220))\n",
    "\n",
    "    hsv_white = binary_threshold(hsv, hsv_low_white, hsv_high_white)\n",
    "\n",
    "    hsv_binary = hsv_yellow | hsv_white\n",
    "\n",
    "    ### HLS color space\n",
    "    hls = cv2.cvtColor(img, cv2.COLOR_RGB2HLS)\n",
    "    L = hls[:,:,1]\n",
    "    L_max, L_mean = np.max(L), np.mean(L)\n",
    "    S = hls[:,:,2]\n",
    "    S_max, S_mean = np.max(S), np.mean(S)\n",
    "\n",
    "    # YELLOW\n",
    "    L_adapt_yellow = max(80, int(L_mean * 1.25))\n",
    "    S_adapt_yellow = max(int(S_max * 0.25), int(S_mean * 1.75))\n",
    "    hls_low_yellow = np.array((15, L_adapt_yellow, S_adapt_yellow))\n",
    "    hls_high_yellow = np.array((30, 255, 255))\n",
    "\n",
    "    hls_yellow = binary_threshold(hls, hls_low_yellow, hls_high_yellow)\n",
    "\n",
    "    # WHITE\n",
    "    L_adapt_white =  max(160, int(L_max *0.8),int(L_mean * 1.25))\n",
    "    hls_low_white = np.array((0, L_adapt_white,  0))\n",
    "    hls_high_white = np.array((255, 255, 255))\n",
    "\n",
    "    hls_white = binary_threshold(hls, hls_low_white, hls_high_white)\n",
    "\n",
    "    hls_binary = hls_yellow | hls_white\n",
    "\n",
    "    ### R color channel (WHITE)\n",
    "    R = img[:,:,0]\n",
    "    R_max, R_mean = np.max(R), np.mean(R)\n",
    "\n",
    "    R_low_white = min(max(150, int(R_max * 0.55), int(R_mean * 1.95)),230)\n",
    "    R_binary = binary_threshold(R, R_low_white, 255)\n",
    "\n",
    "    adapt_yellow_S = cv2.adaptiveThreshold(hls[:,:,2], 1, \\\n",
    "                                                  cv2.ADAPTIVE_THRESH_GAUSSIAN_C, cv2.THRESH_BINARY, 161, -5)\n",
    "    adapt_yellow_B = cv2.adaptiveThreshold(lab[:,:,2], 1, \\\n",
    "                                                  cv2.ADAPTIVE_THRESH_GAUSSIAN_C, cv2.THRESH_BINARY, 161, -5)\n",
    "    adapt_yellow = adapt_yellow_S & adapt_yellow_B\n",
    "\n",
    "    # WHITE\n",
    "    adapt_white_R = cv2.adaptiveThreshold(img[:,:,0], 1, \\\n",
    "                                                  cv2.ADAPTIVE_THRESH_GAUSSIAN_C, cv2.THRESH_BINARY, 161, -27)\n",
    "    adapt_white_L = cv2.adaptiveThreshold(hsv[:,:,2], 1, \\\n",
    "                                                  cv2.ADAPTIVE_THRESH_GAUSSIAN_C, cv2.THRESH_BINARY, 161, -27)\n",
    "    adapt_white = adapt_white_R & adapt_white_L\n",
    "\n",
    "    adapt_binary =  adapt_yellow | adapt_white\n",
    "\n",
    "\n",
    "    combined = np.asarray(R_binary + lab_binary + hls_binary + hsv_binary + adapt_binary, dtype=np.uint8)\n",
    "\n",
    "    combined[combined < 3] = 0\n",
    "    combined[combined >= 3] = 1\n",
    "    kernel_size = 15\n",
    "    combined = cv2.GaussianBlur(combined, (kernel_size, kernel_size), 0)\n",
    "\n",
    "    return  combined\n",
    "\n",
    "def perspective_transform(img):\n",
    "    h,w = img.shape[:2]\n",
    "    rows, cols = img.shape[:2]\n",
    "\n",
    "\n",
    "    #src = np.float32([[cols*0.01, rows*0.98],[cols*0.1, rows*0.08],\n",
    "    #                  [cols*0.8, rows*0.08],[cols*0.99, rows*0.98]])\n",
    "    src = np.float32([[cols*0.01, rows*0.98],[cols*0.07, rows*0.322],\n",
    "                      [cols*0.76, rows*0.322],[cols*0.99, rows*0.99]])\n",
    "\n",
    "    dst = np.float32([[0, img.shape[0]], [0, 0+0],\n",
    "                      [450, 0+0], [639, img.shape[0]]])\n",
    "    #dst = np.float32([[50, img.shape[0]], [50, 0],\n",
    "    #                  [550, 0], [550, img.shape[0]]])\n",
    "    M = cv2.getPerspectiveTransform(src, dst)\n",
    "    Minv = cv2.getPerspectiveTransform(dst, src)\n",
    "    warped = cv2.warpPerspective(img, M, (w,h), flags=cv2.INTER_LINEAR)\n",
    "    return warped, M, Minv, src\n",
    "\n",
    "def perspective_transform_helper(img):\n",
    "    warped,_,_,_ = perspective_transform(img)\n",
    "    return warped"
   ]
  },
  {
   "cell_type": "code",
   "execution_count": 7,
   "metadata": {},
   "outputs": [
    {
     "data": {
      "text/plain": [
       "<matplotlib.image.AxesImage at 0x1ea6ee1a400>"
      ]
     },
     "execution_count": 7,
     "metadata": {},
     "output_type": "execute_result"
    },
    {
     "data": {
      "image/png": "[encoded data removed]",
      "text/plain": [
       "<Figure size 432x288 with 1 Axes>"
      ]
     },
     "metadata": {
      "needs_background": "light"
     },
     "output_type": "display_data"
    }
   ],
   "source": [
    "import os\n",
    "\n",
    "img = mpimg.imread(\"Raspi_images/New/NewNew/NewNewNew/a (23).jpg\")\n",
    "warped, _,_, _ = perspective_transform(pipeline_threshold(img))\n",
    "plt.imshow(warped/255, cmap='gray')"
   ]
  },
  {
   "cell_type": "code",
   "execution_count": 8,
   "metadata": {},
   "outputs": [],
   "source": [
    "def img_preprocess(img):\n",
    "    #print(img.shape)\n",
    "    #img = img[60:135,:,:]\n",
    "    #img = cv2.cvtColor(img, cv2.COLOR_RGB2YUV)\n",
    "    #img = cv2.GaussianBlur(img,  (3, 3), 0)\n",
    "    #img = cv2.resize(img, (200, 66))\n",
    "    img, _,_, _ = perspective_transform(pipeline_threshold(img))\n",
    "    #img = np.resize(img, (120, 160,1))\n",
    "    #img = img/255\n",
    "    \n",
    "    return img"
   ]
  },
  {
   "cell_type": "code",
   "execution_count": null,
   "metadata": {},
   "outputs": [
    {
     "name": "stdout",
     "output_type": "stream",
     "text": [
      "(480, 639)\n",
      "(120, 160)\n",
      "(1, 120, 160, 1)\n",
      "[[0 0 0 ... 0 0 0]\n",
      " [0 0 0 ... 0 0 0]\n",
      " [0 0 0 ... 0 0 0]\n",
      " ...\n",
      " [0 0 0 ... 0 0 0]\n",
      " [0 0 0 ... 0 0 0]\n",
      " [0 0 0 ... 0 0 0]]\n"
     ]
    },
    {
     "data": {
      "text/plain": [
       "<matplotlib.image.AxesImage at 0x229682614e0>"
      ]
     },
     "execution_count": 5,
     "metadata": {},
     "output_type": "execute_result"
    },
    {
     "data": {
      "image/png": "[encoded data removed]",
      "text/plain": [
       "<Figure size 432x288 with 1 Axes>"
      ]
     },
     "metadata": {
      "needs_background": "light"
     },
     "output_type": "display_data"
    }
   ],
   "source": [
    "\n",
    "original_image = mpimg.imread(\"Raspi_images/New/NewNew/NewNewNew/a (7).jpg\")\n",
    "\n",
    "dim = (160, 120)\n",
    "#resized = cv2.resize(original_image, dim, interpolation = cv2.INTER_AREA)\n",
    "#print(resized.shape)\n",
    "\n",
    "#plt.imshow(resized)\n",
    "img_processed = img_preprocess(original_image)\n",
    "print(img_processed.shape)\n",
    "resized = cv2.resize(img_processed, dim, interpolation = cv2.INTER_AREA)\n",
    "print(resized.shape)\n",
    "#plt.imshow(resized, 'gray')\n",
    "\n",
    "resized = np.resize(resized, (1, 120, 160, 1))\n",
    "print(resized.shape)\n",
    "\n",
    "print(resized[0,:,:,0])\n",
    "plt.imshow(resized[0,:,:,0], cmap='gray')\n",
    "#cv2.imshow(\"prank\", resized[0,:,:,0])\n",
    "#cv2.waitKey(0)"
   ]
  },
  {
   "cell_type": "code",
   "execution_count": null,
   "metadata": {},
   "outputs": [],
   "source": [
    "angle = float(model.predict(resized))"
   ]
  },
  {
   "cell_type": "code",
   "execution_count": null,
   "metadata": {},
   "outputs": [],
   "source": []
  }
 ],
 "metadata": {
  "kernelspec": {
   "display_name": "Python 3",
   "language": "python",
   "name": "python3"
  },
  "language_info": {
   "codemirror_mode": {
    "name": "ipython",
    "version": 3
   },
   "file_extension": ".py",
   "mimetype": "text/x-python",
   "name": "python",
   "nbconvert_exporter": "python",
   "pygments_lexer": "ipython3",
   "version": "3.6.8"
  }
 },
 "nbformat": 4,
 "nbformat_minor": 2
}
